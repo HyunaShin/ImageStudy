{
  "nbformat": 4,
  "nbformat_minor": 0,
  "metadata": {
    "colab": {
      "name": "Plant_Seeding_Baseline.ipynb",
      "version": "0.3.2",
      "provenance": [],
      "include_colab_link": true
    },
    "kernelspec": {
      "name": "python3",
      "display_name": "Python 3"
    }
  },
  "cells": [
    {
      "cell_type": "markdown",
      "metadata": {
        "id": "view-in-github",
        "colab_type": "text"
      },
      "source": [
        "<a href=\"https://colab.research.google.com/github/HyunaShin/ImageStudy/blob/master/Plant_Seeding_Baseline.ipynb\" target=\"_parent\"><img src=\"https://colab.research.google.com/assets/colab-badge.svg\" alt=\"Open In Colab\"/></a>"
      ]
    },
    {
      "metadata": {
        "id": "mbOPaaLum8ew",
        "colab_type": "code",
        "colab": {
          "base_uri": "https://localhost:8080/",
          "height": 204
        },
        "outputId": "ade72923-dbab-4f5d-de96-97aed4e8ebac"
      },
      "cell_type": "code",
      "source": [
        "api_token = {\"username\":\"hyuna1615\",\"key\":\"471ac110008706a0be1f1d4f780e4edd\"}\n",
        "! chmod 600 /root/.kaggle/kaggle.json\n",
        "import json\n",
        "import zipfile\n",
        "import os\n",
        "\n",
        "with open('/root/.kaggle/kaggle.json', 'w') as file:\n",
        "   json.dump(api_token, file)\n",
        "! kaggle competitions download -c plant-seedlings-classification"
      ],
      "execution_count": 3,
      "outputs": [
        {
          "output_type": "stream",
          "text": [
            "chmod: cannot access '/root/.kaggle/kaggle.json': No such file or directory\n",
            "Warning: Your Kaggle API key is readable by other users on this system! To fix this, you can run 'chmod 600 /root/.kaggle/kaggle.json'\n",
            "Downloading sample_submission.csv.zip to /content\n",
            "  0% 0.00/5.13k [00:00<?, ?B/s]\n",
            "100% 5.13k/5.13k [00:00<00:00, 4.31MB/s]\n",
            "Downloading test.zip to /content\n",
            " 85% 73.0M/86.0M [00:01<00:00, 31.4MB/s]\n",
            "100% 86.0M/86.0M [00:01<00:00, 50.9MB/s]\n",
            "Downloading train.zip to /content\n",
            " 99% 1.59G/1.60G [00:23<00:00, 61.9MB/s]\n",
            "100% 1.60G/1.60G [00:23<00:00, 73.4MB/s]\n"
          ],
          "name": "stdout"
        }
      ]
    },
    {
      "metadata": {
        "id": "UpLaaKXRgSuq",
        "colab_type": "code",
        "colab": {
          "base_uri": "https://localhost:8080/",
          "height": 51
        },
        "outputId": "ee6fd409-4c91-4b2a-f1e2-eadcd4e8297f"
      },
      "cell_type": "code",
      "source": [
        "! ls"
      ],
      "execution_count": 27,
      "outputs": [
        {
          "output_type": "stream",
          "text": [
            "adc.json       plant_seeding  sample_submission.csv.zip  train.zip\n",
            "deep_learning  sample_data    test.zip\n"
          ],
          "name": "stdout"
        }
      ]
    },
    {
      "metadata": {
        "id": "RNjzMoUCm8hR",
        "colab_type": "code",
        "colab": {
          "base_uri": "https://localhost:8080/",
          "height": 51
        },
        "outputId": "37095840-b377-4ed7-cc64-8ed2a432271c"
      },
      "cell_type": "code",
      "source": [
        "# ! unzip test.zip && unzip train.zip\n",
        "! unzip sample_submission.csv.zip"
      ],
      "execution_count": 31,
      "outputs": [
        {
          "output_type": "stream",
          "text": [
            "Archive:  sample_submission.csv.zip\n",
            "  inflating: sample_submission.csv   \n"
          ],
          "name": "stdout"
        }
      ]
    },
    {
      "metadata": {
        "id": "5F8onC9Di-oV",
        "colab_type": "code",
        "colab": {
          "base_uri": "https://localhost:8080/",
          "height": 204
        },
        "outputId": "4eb41c67-a436-4415-b382-ee3727c20ad0"
      },
      "cell_type": "code",
      "source": [
        "import os\n",
        "os.listdir()"
      ],
      "execution_count": 32,
      "outputs": [
        {
          "output_type": "execute_result",
          "data": {
            "text/plain": [
              "['.config',\n",
              " 'sample_submission.csv.zip',\n",
              " 'adc.json',\n",
              " 'sample_submission.csv',\n",
              " 'train',\n",
              " 'test',\n",
              " 'train.zip',\n",
              " 'test.zip',\n",
              " 'deep_learning',\n",
              " 'plant_seeding',\n",
              " 'sample_data']"
            ]
          },
          "metadata": {
            "tags": []
          },
          "execution_count": 32
        }
      ]
    },
    {
      "metadata": {
        "id": "mrJKXg2ui-qs",
        "colab_type": "code",
        "colab": {
          "base_uri": "https://localhost:8080/",
          "height": 85
        },
        "outputId": "d3b34bf2-3c72-4164-b72c-db898713ceeb"
      },
      "cell_type": "code",
      "source": [
        "! cd train && ls"
      ],
      "execution_count": 33,
      "outputs": [
        {
          "output_type": "stream",
          "text": [
            " Black-grass\t    'Common wheat'\t'Scentless Mayweed'\n",
            " Charlock\t    'Fat Hen'\t\t'Shepherds Purse'\n",
            " Cleavers\t    'Loose Silky-bent'\t'Small-flowered Cranesbill'\n",
            "'Common Chickweed'   Maize\t\t'Sugar beet'\n"
          ],
          "name": "stdout"
        }
      ]
    },
    {
      "metadata": {
        "id": "ZDG0c79yi-tE",
        "colab_type": "code",
        "colab": {}
      },
      "cell_type": "code",
      "source": [
        "#importing all the necessary modules\n",
        "import numpy as np\n",
        "import pandas as pd\n",
        "import matplotlib.pyplot as plt\n",
        "import math\n",
        "import cv2\n",
        "from glob import glob\n",
        "import itertools\n",
        "\n",
        "\n",
        "from keras.utils import np_utils\n",
        "from keras.preprocessing.image import ImageDataGenerator\n",
        "from keras.models import Sequential\n",
        "from keras.layers import Dense\n",
        "from keras.layers import Dropout\n",
        "from keras.layers import Flatten\n",
        "from keras.layers.convolutional import Conv2D\n",
        "from keras.layers.convolutional import MaxPooling2D\n",
        "from keras.callbacks import ModelCheckpoint, ReduceLROnPlateau, CSVLogger\n",
        "\n",
        "from sklearn import preprocessing\n",
        "from sklearn.model_selection import train_test_split\n",
        "from sklearn.metrics import confusion_matrix\n",
        "\n",
        "scale = 70\n",
        "seed = 7"
      ],
      "execution_count": 0,
      "outputs": []
    },
    {
      "metadata": {
        "id": "WmEZPZ4yr4Fl",
        "colab_type": "code",
        "colab": {
          "base_uri": "https://localhost:8080/",
          "height": 17
        },
        "outputId": "f5af5a42-2cf4-49e0-9903-8e60e1346603"
      },
      "cell_type": "code",
      "source": [
        "#getting the data and resizing the images\n",
        "path_to_images = \"./train/*/*.png\"\n",
        "images = glob(path_to_images)\n",
        "\n",
        "trainingset = []\n",
        "traininglabels = []\n",
        "num = len(images)\n",
        "count = 1\n",
        "\n",
        "for i in images:\n",
        "  print(str(count)+'/'+str(num), end = \"\\r\" )\n",
        "  trainingset.append(cv2.resize(cv2.imread(i), (scale, scale)))\n",
        "  traininglabels.append(i.split(\"/\")[-2])\n",
        "  count = count +1\n",
        " \n",
        "trainingset = np.asarray(trainingset)\n",
        "traininglabels = pd.DataFrame(traininglabels)"
      ],
      "execution_count": 41,
      "outputs": [
        {
          "output_type": "stream",
          "text": [
            ""
          ],
          "name": "stdout"
        }
      ]
    },
    {
      "metadata": {
        "id": "hFlvUyUTr4Hy",
        "colab_type": "code",
        "colab": {}
      },
      "cell_type": "code",
      "source": [
        "# trainingset"
      ],
      "execution_count": 0,
      "outputs": []
    },
    {
      "metadata": {
        "id": "5wF75RUCr4KJ",
        "colab_type": "code",
        "colab": {}
      },
      "cell_type": "code",
      "source": [
        ""
      ],
      "execution_count": 0,
      "outputs": []
    },
    {
      "metadata": {
        "id": "pyhdWFa3r4Mk",
        "colab_type": "code",
        "colab": {}
      },
      "cell_type": "code",
      "source": [
        ""
      ],
      "execution_count": 0,
      "outputs": []
    },
    {
      "metadata": {
        "id": "yNPsj-Oqr4O6",
        "colab_type": "code",
        "colab": {}
      },
      "cell_type": "code",
      "source": [
        ""
      ],
      "execution_count": 0,
      "outputs": []
    },
    {
      "metadata": {
        "id": "pEOrQT4nr4RZ",
        "colab_type": "code",
        "colab": {}
      },
      "cell_type": "code",
      "source": [
        ""
      ],
      "execution_count": 0,
      "outputs": []
    },
    {
      "metadata": {
        "id": "RdUDAPH8r4Tw",
        "colab_type": "code",
        "colab": {}
      },
      "cell_type": "code",
      "source": [
        ""
      ],
      "execution_count": 0,
      "outputs": []
    },
    {
      "metadata": {
        "id": "Dx4WON1zr4V8",
        "colab_type": "code",
        "colab": {}
      },
      "cell_type": "code",
      "source": [
        ""
      ],
      "execution_count": 0,
      "outputs": []
    },
    {
      "metadata": {
        "id": "8qmCBHLmr4YB",
        "colab_type": "code",
        "colab": {}
      },
      "cell_type": "code",
      "source": [
        ""
      ],
      "execution_count": 0,
      "outputs": []
    }
  ]
}